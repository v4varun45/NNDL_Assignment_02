{
 "cells": [
  {
   "cell_type": "markdown",
   "metadata": {},
   "source": [
    "# 1a)"
   ]
  },
  {
   "cell_type": "code",
   "execution_count": 1,
   "metadata": {},
   "outputs": [
    {
     "name": "stdout",
     "output_type": "stream",
     "text": [
      "Enter first name and last name: Varun Kannamgari\n",
      "Varun Kannamgari\n"
     ]
    }
   ],
   "source": [
    "def Full_name(First_name,Last_name):\n",
    "    Full_name= First_name + \" \" + Last_name\n",
    "    print (Full_name)\n",
    "\n",
    "\n",
    "\n",
    "\n",
    "First_name,Last_name = input(\"Enter first name and last name: \").split()\n",
    "\n",
    "Full_name(First_name,Last_name)\n"
   ]
  },
  {
   "cell_type": "markdown",
   "metadata": {},
   "source": [
    "# 1b)"
   ]
  },
  {
   "cell_type": "code",
   "execution_count": 2,
   "metadata": {},
   "outputs": [
    {
     "name": "stdout",
     "output_type": "stream",
     "text": [
      "Go vnn\n"
     ]
    }
   ],
   "source": [
    "def string_alternative(Str):\n",
    "    Full_name= Str[::2]\n",
    "    print(Full_name)\n",
    "  \n",
    "\n",
    "if __name__ == \"__main__\":    \n",
    "    Str = \"Good evening\" \n",
    "    string_alternative(Str)"
   ]
  },
  {
   "cell_type": "markdown",
   "metadata": {},
   "source": [
    "# 2)"
   ]
  },
  {
   "cell_type": "code",
   "execution_count": 3,
   "metadata": {},
   "outputs": [
    {
     "name": "stdout",
     "output_type": "stream",
     "text": [
      "Python Course\n",
      "Deep Learning Course\n",
      "Word_Count:\n",
      "Python: 1\n",
      "Course: 2\n",
      "Deep: 1\n",
      "Learning: 1\n",
      "\n"
     ]
    }
   ],
   "source": [
    "from collections import Counter\n",
    "\n",
    "def word_count_in_file(input_file, output_file):\n",
    "   \n",
    "    with open(input_file, 'r') as file:\n",
    "        lines = file.readlines()\n",
    "\n",
    "    word_counts = Counter()\n",
    "\n",
    "   \n",
    "    for line in lines:\n",
    "        words = line.split()\n",
    "        word_counts.update(words)\n",
    "\n",
    " \n",
    "    with open(output_file, 'w') as output:\n",
    "        for line in lines:\n",
    "            output.write(line.strip() + '\\n')\n",
    "\n",
    "        output.write(\"Word_Count:\\n\")\n",
    "        for word, count in word_counts.items():\n",
    "            output.write(f\"{word}: {count}\\n\")\n",
    "\n",
    "\n",
    "input_file = \"Assign2.txt\"\n",
    "output_file = \"output.txt\"\n",
    "\n",
    "\n",
    "word_count_in_file(input_file, output_file)\n",
    "\n",
    "with open('output.txt', 'r') as file:\n",
    "   \n",
    "    content = file.read()\n",
    "print(content)\n",
    "\n"
   ]
  },
  {
   "cell_type": "markdown",
   "metadata": {},
   "source": [
    "# 3)"
   ]
  },
  {
   "cell_type": "markdown",
   "metadata": {},
   "source": [
    "# Nested Interactive loop"
   ]
  },
  {
   "cell_type": "code",
   "execution_count": 4,
   "metadata": {},
   "outputs": [
    {
     "name": "stdout",
     "output_type": "stream",
     "text": [
      "Output: [68.03, 70.3, 65.76, 67.12]\n"
     ]
    }
   ],
   "source": [
    "L1= [150,155,145,148]\n",
    "L2=[]\n",
    "for i in L1:\n",
    "    L2.append(round(i/2.2049,2))\n",
    "print(\"Output:\", L2)  "
   ]
  },
  {
   "cell_type": "markdown",
   "metadata": {},
   "source": [
    "# List comprehensions"
   ]
  },
  {
   "cell_type": "code",
   "execution_count": 5,
   "metadata": {},
   "outputs": [
    {
     "name": "stdout",
     "output_type": "stream",
     "text": [
      "Output: [68.03, 70.3, 65.76, 67.12]\n"
     ]
    }
   ],
   "source": [
    "L1= [150,155,145,148]\n",
    "L2=[round(i/2.2049,2)for i in L1]\n",
    "print(\"Output:\", L2)"
   ]
  }
 ],
 "metadata": {
  "kernelspec": {
   "display_name": "Python 3",
   "language": "python",
   "name": "python3"
  },
  "language_info": {
   "codemirror_mode": {
    "name": "ipython",
    "version": 3
   },
   "file_extension": ".py",
   "mimetype": "text/x-python",
   "name": "python",
   "nbconvert_exporter": "python",
   "pygments_lexer": "ipython3",
   "version": "3.8.5"
  }
 },
 "nbformat": 4,
 "nbformat_minor": 4
}
